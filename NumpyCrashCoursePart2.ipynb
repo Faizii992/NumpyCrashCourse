{
 "cells": [
  {
   "cell_type": "code",
   "execution_count": 34,
   "metadata": {},
   "outputs": [
    {
     "name": "stdout",
     "output_type": "stream",
     "text": [
      "arr3:  [10 20 30 40 50 60 70 80 90]\n"
     ]
    }
   ],
   "source": [
    "#Joining or Concatenating two 1D arrays\n",
    "\n",
    "import numpy as np\n",
    "arr1=np.array([10,20,30,40,50])\n",
    "arr2=np.array([60,70,80,90])\n",
    "\n",
    "arr3=np.concatenate((arr1,arr2))\n",
    "print('arr3: ',arr3)"
   ]
  },
  {
   "cell_type": "code",
   "execution_count": 9,
   "metadata": {},
   "outputs": [
    {
     "name": "stdout",
     "output_type": "stream",
     "text": [
      "Concatenating along rows:\n",
      "[[ 1  2  3 10 20 30]\n",
      " [ 4  5  6 40 50 60]]\n",
      "Concatenating along columns:\n",
      "[[ 1  2  3]\n",
      " [ 4  5  6]\n",
      " [10 20 30]\n",
      " [40 50 60]]\n"
     ]
    }
   ],
   "source": [
    "#Joining or Concatenating two 2D arrays along row and columns\n",
    "\n",
    "arr1=np.array([[1,2,3],[4,5,6]])\n",
    "arr2=np.array([[10,20,30],[40,50,60]])\n",
    "\n",
    "arr3=np.concatenate((arr1,arr2),axis=1)\n",
    "print('Concatenating along rows:')\n",
    "print(arr3)\n",
    "\n",
    "arr4=np.concatenate((arr1,arr2),axis=0)\n",
    "print('Concatenating along columns:')\n",
    "print(arr4)\n"
   ]
  },
  {
   "cell_type": "code",
   "execution_count": 16,
   "metadata": {},
   "outputs": [
    {
     "name": "stdout",
     "output_type": "stream",
     "text": [
      "[[1 4]\n",
      " [2 5]\n",
      " [3 6]]\n",
      "[[1 2 3]\n",
      " [4 5 6]]\n"
     ]
    }
   ],
   "source": [
    "#Stacking along rows and columns. By default axis is set to 0\n",
    "\"\"\"\n",
    "Stacking is same as concatenation, the only difference is that stacking is done along a new axis.\n",
    "\n",
    "We can concatenate two 1-D arrays along the second axis which would result in putting them one over the other, ie. stacking.\n",
    "\"\"\"\n",
    "#Concatenating along rows:\n",
    "arr1 = np.array([1, 2, 3])\n",
    "arr2 = np.array([4, 5, 6])\n",
    "arr3 = np.stack((arr1, arr2), axis=1)\n",
    "print(arr3)\n",
    "\n",
    "#Concatenating along columns:\n",
    "arr4 = np.stack((arr1, arr2)) #Here nothing is specified. so Axis=0\n",
    "print(arr4)"
   ]
  },
  {
   "cell_type": "code",
   "execution_count": 23,
   "metadata": {},
   "outputs": [
    {
     "name": "stdout",
     "output_type": "stream",
     "text": [
      "[10 22 33 40 52 63]\n",
      "[[10 22 33]\n",
      " [40 52 63]]\n",
      "[[ 1  2  3 10 20 30]\n",
      " [ 4  5  6 40 50 60]]\n",
      "[[ 1  2  3]\n",
      " [ 4  5  6]\n",
      " [10 20 30]\n",
      " [40 50 60]]\n"
     ]
    }
   ],
   "source": [
    "#Stacking with helper functions,hstack and vstack\n",
    "\n",
    "#hstack: Stacks along rows\n",
    "arr1 = np.array([10, 22, 33])\n",
    "arr2 = np.array([40, 52, 63])\n",
    "arr3=np.hstack((arr1,arr2))\n",
    "print(arr3)\n",
    "\n",
    "#hstack: Stacks along rows\n",
    "arr3=np.vstack((arr1,arr2))\n",
    "print(arr3)\n",
    "\n",
    "arr4=np.array([[1,2,3],[4,5,6]])\n",
    "arr5=np.array([[10,20,30],[40,50,60]])\n",
    "\n",
    "arr6=np.hstack((arr4,arr5))\n",
    "print(arr6)\n",
    "\n",
    "arr7=np.vstack((arr4,arr5))\n",
    "print(arr7)\n"
   ]
  },
  {
   "cell_type": "code",
   "execution_count": 17,
   "metadata": {},
   "outputs": [
    {
     "name": "stdout",
     "output_type": "stream",
     "text": [
      "[[[1 4]\n",
      "  [2 5]\n",
      "  [3 6]]]\n"
     ]
    }
   ],
   "source": [
    "#Stacking along height using dstack. This works like normal stacking when axis is set to 1\n",
    "\n",
    "arr4=np.dstack((arr1,arr2))\n",
    "print(arr4)\n"
   ]
  },
  {
   "cell_type": "code",
   "execution_count": 19,
   "metadata": {},
   "outputs": [
    {
     "name": "stdout",
     "output_type": "stream",
     "text": [
      "[[1 4]\n",
      " [2 5]\n",
      " [3 6]]\n"
     ]
    }
   ],
   "source": [
    "arr5=np.stack((arr1,arr2),axis=1)\n",
    "print(arr5)"
   ]
  },
  {
   "cell_type": "code",
   "execution_count": 30,
   "metadata": {},
   "outputs": [
    {
     "name": "stdout",
     "output_type": "stream",
     "text": [
      "[array([11, 22, 33]), array([44, 55, 66]), array([77, 88, 99]), array([111, 222, 333])]\n",
      "[11 22 33]\n",
      "[44 55 66]\n",
      "[77 88 99]\n",
      "[111 222 333]\n"
     ]
    }
   ],
   "source": [
    "#Splitting 1D arrays\n",
    "arr1 = np.array([11, 22, 33, 44, 55, 66,77,88,99,111,222,333])\n",
    "arr2 = np.array_split(arr1, 4)\n",
    "\n",
    "print(arr2)\n",
    "print(arr2[0])\n",
    "print(arr2[1])\n",
    "print(arr2[2])\n",
    "print(arr2[3])"
   ]
  },
  {
   "cell_type": "code",
   "execution_count": 33,
   "metadata": {},
   "outputs": [
    {
     "name": "stdout",
     "output_type": "stream",
     "text": [
      "[array([[20, 30],\n",
      "       [40, 50],\n",
      "       [60, 70]]), array([[ 80,  90],\n",
      "       [100, 110],\n",
      "       [120, 130]])]\n",
      "[[20 30]\n",
      " [40 50]\n",
      " [60 70]]\n",
      "[[ 80  90]\n",
      " [100 110]\n",
      " [120 130]]\n"
     ]
    }
   ],
   "source": [
    "#Splitting 2D arrays\n",
    "arr1 = np.array([[20, 30], [40, 50], [60, 70], [80, 90], [100, 110], [120, 130]])\n",
    "arr2 = np.array_split(arr1, 2)\n",
    "\n",
    "print(arr2)\n",
    "print(arr2[0])\n",
    "print(arr2[1])\n"
   ]
  },
  {
   "cell_type": "code",
   "execution_count": 37,
   "metadata": {},
   "outputs": [
    {
     "name": "stdout",
     "output_type": "stream",
     "text": [
      "[array([[ 20],\n",
      "       [ 40],\n",
      "       [ 60],\n",
      "       [ 80],\n",
      "       [100],\n",
      "       [120]]), array([[ 30],\n",
      "       [ 50],\n",
      "       [ 70],\n",
      "       [ 90],\n",
      "       [110],\n",
      "       [130]])]\n",
      "[array([[20, 30],\n",
      "       [40, 50],\n",
      "       [60, 70]]), array([[ 80,  90],\n",
      "       [100, 110],\n",
      "       [120, 130]])]\n"
     ]
    }
   ],
   "source": [
    "#Splitting along an axis\n",
    "arr1 = np.array([[20, 30], [40, 50], [60, 70], [80, 90], [100, 110], [120, 130]])\n",
    "arr2 = np.array_split(arr1, 2,axis=1)\n",
    "\n",
    "print(arr2)\n",
    "\n",
    "arr2 = np.array_split(arr1, 2,axis=0)\n",
    "\n",
    "print(arr2)\n"
   ]
  },
  {
   "cell_type": "code",
   "execution_count": 43,
   "metadata": {},
   "outputs": [
    {
     "name": "stdout",
     "output_type": "stream",
     "text": [
      "hsplit:\n",
      "[array([[ 20],\n",
      "       [ 40],\n",
      "       [ 60],\n",
      "       [ 80],\n",
      "       [100],\n",
      "       [120]]), array([[ 30],\n",
      "       [ 50],\n",
      "       [ 70],\n",
      "       [ 90],\n",
      "       [110],\n",
      "       [130]])]\n",
      "vsplit:\n",
      "[array([[20, 30],\n",
      "       [40, 50],\n",
      "       [60, 70]]), array([[ 80,  90],\n",
      "       [100, 110],\n",
      "       [120, 130]])]\n"
     ]
    }
   ],
   "source": [
    "#hsplit,vsplit\n",
    "arr3=np.hsplit(arr1,2)\n",
    "print(\"hsplit:\")\n",
    "print(arr3)\n",
    "\n",
    "arr3=np.vsplit(arr1,2)\n",
    "print(\"vsplit:\")\n",
    "print(arr3)"
   ]
  },
  {
   "cell_type": "code",
   "execution_count": 48,
   "metadata": {},
   "outputs": [
    {
     "name": "stdout",
     "output_type": "stream",
     "text": [
      "[[20 30]\n",
      " [40 50]\n",
      " [60 70]]\n",
      "[[ 80  90]\n",
      " [100 110]\n",
      " [120 130]]\n",
      "[[1 2 3]\n",
      " [4 5 6]]\n",
      "[[ 7  8  9]\n",
      " [10 11 12]]\n"
     ]
    }
   ],
   "source": [
    "#Iterating through arrays\n",
    "for x in arr3:\n",
    "  print(x)\n",
    "\n",
    "arr3D = np.array([[[1, 2, 3], [4, 5, 6]], [[7, 8, 9], [10, 11, 12]]])\n",
    "\n",
    "for z in arr3D:\n",
    "  print(z)"
   ]
  },
  {
   "cell_type": "code",
   "execution_count": 47,
   "metadata": {},
   "outputs": [
    {
     "name": "stdout",
     "output_type": "stream",
     "text": [
      "20\n",
      "30\n",
      "40\n",
      "50\n",
      "60\n",
      "70\n",
      "80\n",
      "90\n",
      "100\n",
      "110\n",
      "120\n",
      "130\n",
      "[20 30]\n",
      "[40 50]\n",
      "[60 70]\n",
      "[80 90]\n",
      "[100 110]\n",
      "[120 130]\n"
     ]
    }
   ],
   "source": [
    "#Iterating on each scalar element for 1d,2d arrays\n",
    "\n",
    "for x in arr1:\n",
    " for y in x:\n",
    "    print(y)\n",
    "\n",
    "for x in arr3:\n",
    " for y in x:\n",
    "    print(y)"
   ]
  },
  {
   "cell_type": "code",
   "execution_count": 51,
   "metadata": {},
   "outputs": [
    {
     "name": "stdout",
     "output_type": "stream",
     "text": [
      "[[[ 1  2  3]\n",
      "  [ 4  5  6]]\n",
      "\n",
      " [[ 7  8  9]\n",
      "  [10 11 12]]]\n",
      "1\n",
      "2\n",
      "3\n",
      "4\n",
      "5\n",
      "6\n",
      "7\n",
      "8\n",
      "9\n",
      "10\n",
      "11\n",
      "12\n"
     ]
    }
   ],
   "source": [
    "#Iterating on scalar elements for 3d arrays:\n",
    "\n",
    "print(arr3D)\n",
    "\n",
    "for x in arr3D:\n",
    "  for y in x:\n",
    "    for z in y:\n",
    "      print(z)"
   ]
  },
  {
   "cell_type": "code",
   "execution_count": 56,
   "metadata": {},
   "outputs": [
    {
     "name": "stdout",
     "output_type": "stream",
     "text": [
      "1\n",
      "2\n",
      "3\n",
      "4\n",
      "5\n",
      "6\n",
      "7\n",
      "8\n",
      "9\n",
      "10\n",
      "11\n",
      "12\n"
     ]
    }
   ],
   "source": [
    "#Alternative to using for loops for iterating through scalar elements:\n",
    "for x in np.nditer(arr3D):\n",
    "  print(x)"
   ]
  },
  {
   "cell_type": "code",
   "execution_count": 57,
   "metadata": {},
   "outputs": [
    {
     "name": "stdout",
     "output_type": "stream",
     "text": [
      "(0, 0, 0) 1\n",
      "(0, 0, 1) 2\n",
      "(0, 0, 2) 3\n",
      "(0, 1, 0) 4\n",
      "(0, 1, 1) 5\n",
      "(0, 1, 2) 6\n",
      "(1, 0, 0) 7\n",
      "(1, 0, 1) 8\n",
      "(1, 0, 2) 9\n",
      "(1, 1, 0) 10\n",
      "(1, 1, 1) 11\n",
      "(1, 1, 2) 12\n"
     ]
    }
   ],
   "source": [
    "\"\"\"\n",
    "Enumeration means mentioning sequence number of somethings one by one.\n",
    "\n",
    "For getting corresponding index of the element while iterating, the ndenumerate() method can be used\n",
    "\"\"\"\n",
    "for idx, x in np.ndenumerate(arr3D):\n",
    "  print(idx, x)"
   ]
  },
  {
   "cell_type": "code",
   "execution_count": 59,
   "metadata": {},
   "outputs": [
    {
     "name": "stdout",
     "output_type": "stream",
     "text": [
      "(0, 0) 20\n",
      "(0, 1) 30\n",
      "(1, 0) 40\n",
      "(1, 1) 50\n",
      "(2, 0) 60\n",
      "(2, 1) 70\n",
      "(3, 0) 80\n",
      "(3, 1) 90\n",
      "(4, 0) 100\n",
      "(4, 1) 110\n",
      "(5, 0) 120\n",
      "(5, 1) 130\n"
     ]
    }
   ],
   "source": [
    "for idx, x in np.ndenumerate(arr1):\n",
    "  print(idx, x)"
   ]
  },
  {
   "cell_type": "code",
   "execution_count": 60,
   "metadata": {},
   "outputs": [
    {
     "name": "stdout",
     "output_type": "stream",
     "text": [
      "(0,) 3\n",
      "(1,) 4\n",
      "(2,) 5\n",
      "(3,) 6\n",
      "(4,) 7\n"
     ]
    }
   ],
   "source": [
    "arr1D=np.array([3,4,5,6,7])\n",
    "for idx,x in np.ndenumerate(arr1D):\n",
    "    print(idx,x)"
   ]
  },
  {
   "cell_type": "code",
   "execution_count": 67,
   "metadata": {},
   "outputs": [
    {
     "name": "stdout",
     "output_type": "stream",
     "text": [
      "[  1   2   2   5   5   7   7   9  34 192]\n",
      "[[ 2 11 45]\n",
      " [ 5 12 45]]\n",
      "['apples' 'banana' 'giraffes' 'zebra']\n"
     ]
    }
   ],
   "source": [
    "#Sorting arrays:\n",
    "arr=np.array([5,2,1,2,5,7,9,192,34,7])\n",
    "print(np.sort(arr))\n",
    "\n",
    "arr2D=np.array([[11,2,45],[45,12,5]])\n",
    "print(np.sort(arr2D))\n",
    "\n",
    "arrStr=np.array([\"banana\",\"zebra\",\"apples\",\"giraffes\"])\n",
    "print(np.sort(arrStr))\n"
   ]
  },
  {
   "cell_type": "code",
   "execution_count": 73,
   "metadata": {},
   "outputs": [
    {
     "name": "stdout",
     "output_type": "stream",
     "text": [
      "Addition:  [30 40 50 60 70]\n",
      "Subtraction:  [-10 -20 -30 -40 -50]\n",
      "Multiplication:  [200 300 400 500 600]\n",
      "Division:  [0.5        0.33333333 0.25       0.2        0.16666667]\n",
      "Double Mul: [ 400  900 1600 2500 3600]\n"
     ]
    }
   ],
   "source": [
    "#Addition,Subtraction,Multiplication,Division of matrices\n",
    "arr1=np.array([10,10,10,10,10])\n",
    "arr2=np.array([20,30,40,50,60])\n",
    "print('Addition: ',arr1+arr2)\n",
    "print('Subtraction: ',arr1-arr2)\n",
    "print('Multiplication: ',arr1*arr2)\n",
    "print('Division: ',arr1/arr2)\n",
    "print('Double Mul:',arr2**2)"
   ]
  },
  {
   "cell_type": "code",
   "execution_count": 76,
   "metadata": {},
   "outputs": [
    {
     "name": "stdout",
     "output_type": "stream",
     "text": [
      "[-0.54402111 -0.54402111 -0.54402111 -0.54402111 -0.54402111]\n",
      "[-0.83907153 -0.83907153 -0.83907153 -0.83907153 -0.83907153]\n"
     ]
    }
   ],
   "source": [
    "#Sin,Cos values\n",
    "print(np.sin(arr1))\n",
    "print(np.cos(arr1))"
   ]
  },
  {
   "cell_type": "code",
   "execution_count": 77,
   "metadata": {},
   "outputs": [
    {
     "name": "stdout",
     "output_type": "stream",
     "text": [
      "(array([0, 1, 2, 3, 4, 5, 6, 7, 8], dtype=int64),)\n"
     ]
    }
   ],
   "source": [
    "#Searching\n",
    "arr2=np.array([20,30,40,50,60,200,400,600,800])\n",
    "\n",
    "print(np.where(arr2%2==0))"
   ]
  },
  {
   "cell_type": "code",
   "execution_count": 78,
   "metadata": {},
   "outputs": [
    {
     "name": "stdout",
     "output_type": "stream",
     "text": [
      "(array([], dtype=int64),)\n"
     ]
    }
   ],
   "source": [
    "print(np.where(arr2%2==1))"
   ]
  },
  {
   "cell_type": "code",
   "execution_count": 79,
   "metadata": {},
   "outputs": [
    {
     "name": "stdout",
     "output_type": "stream",
     "text": [
      "(array([0], dtype=int64),)\n"
     ]
    }
   ],
   "source": [
    "print(np.where(arr2==20))"
   ]
  },
  {
   "cell_type": "code",
   "execution_count": 82,
   "metadata": {},
   "outputs": [
    {
     "name": "stdout",
     "output_type": "stream",
     "text": [
      "[ 20  30  40  50  60 200 400 600 800]\n",
      "800\n",
      "20\n",
      "2200\n"
     ]
    }
   ],
   "source": [
    "#Getting max,min,sum\n",
    "print(arr2)\n",
    "print(np.max(arr2))\n",
    "print(np.min(arr2))\n",
    "print(np.sum(arr2))"
   ]
  },
  {
   "cell_type": "code",
   "execution_count": 87,
   "metadata": {},
   "outputs": [
    {
     "name": "stdout",
     "output_type": "stream",
     "text": [
      "[[10  2 20]\n",
      " [ 5 60 12]]\n",
      "[10 60 20]\n",
      "[20 60]\n"
     ]
    }
   ],
   "source": [
    "#Getting max,min along an axis\n",
    "arr2=np.array([[10,2,20],[5,60,12]])\n",
    "print(arr2)\n",
    "print(np.max(arr2,axis=0))\n",
    "print(np.max(arr2,axis=1))"
   ]
  },
  {
   "cell_type": "code",
   "execution_count": null,
   "metadata": {},
   "outputs": [],
   "source": []
  }
 ],
 "metadata": {
  "kernelspec": {
   "display_name": "Python 3",
   "language": "python",
   "name": "python3"
  },
  "language_info": {
   "codemirror_mode": {
    "name": "ipython",
    "version": 3
   },
   "file_extension": ".py",
   "mimetype": "text/x-python",
   "name": "python",
   "nbconvert_exporter": "python",
   "pygments_lexer": "ipython3",
   "version": "3.8.5"
  }
 },
 "nbformat": 4,
 "nbformat_minor": 4
}

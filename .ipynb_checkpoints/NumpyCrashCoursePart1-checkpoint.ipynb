{
 "cells": [
  {
   "cell_type": "code",
   "execution_count": 3,
   "metadata": {},
   "outputs": [
    {
     "name": "stdout",
     "output_type": "stream",
     "text": [
      "[100 200 400 500]\n"
     ]
    }
   ],
   "source": [
    "#Importing Numpy and creating a numpy darray object\n",
    "import numpy as np\n",
    "arr1=np.array([100,200,400,500])\n",
    "print(arr1)"
   ]
  },
  {
   "cell_type": "code",
   "execution_count": 6,
   "metadata": {},
   "outputs": [
    {
     "name": "stdout",
     "output_type": "stream",
     "text": [
      "[[1 2 3 4]\n",
      " [5 6 7 8]]\n"
     ]
    }
   ],
   "source": [
    "#Creating a 2D array\n",
    "\n",
    "arr2=np.array([[1,2,3,4],[5,6,7,8]])\n",
    "print(arr2)\n"
   ]
  },
  {
   "cell_type": "code",
   "execution_count": 7,
   "metadata": {},
   "outputs": [
    {
     "name": "stdout",
     "output_type": "stream",
     "text": [
      "[[[1 2 3]\n",
      "  [3 4 5]\n",
      "  [5 6 7]]]\n"
     ]
    }
   ],
   "source": [
    "#Creating a 3D array\n",
    "\n",
    "arr3=np.array([[[1,2,3],[3,4,5],[5,6,7]]])\n",
    "print(arr3)"
   ]
  },
  {
   "cell_type": "code",
   "execution_count": 9,
   "metadata": {},
   "outputs": [
    {
     "name": "stdout",
     "output_type": "stream",
     "text": [
      "93.4\n"
     ]
    }
   ],
   "source": [
    "#Creating a 0D array (This is just each individual element in the array)\n",
    "\n",
    "arr0=np.array(93.4)\n",
    "print(arr0)"
   ]
  },
  {
   "cell_type": "code",
   "execution_count": 22,
   "metadata": {},
   "outputs": [
    {
     "name": "stdout",
     "output_type": "stream",
     "text": [
      "[[[1 2 3]\n",
      "  [3 4 5]\n",
      "  [5 6 7]]]\n",
      "Shape: (1, 3, 3)\n",
      "Array dimension:  3\n",
      "Array DataType:  int32\n",
      "Array size in bytes:  36\n",
      "Item no:  4\n"
     ]
    }
   ],
   "source": [
    "#The array we're going to use:\n",
    "print(arr3)\n",
    "\n",
    "#Checking the Array Shape\n",
    "print('Shape:' ,arr3.shape)\n",
    "\n",
    "#Checking the Array Dimension\n",
    "print('Array dimension: ',arr3.ndim)\n",
    "\n",
    "#Checking the Array Data type\n",
    "print('Array DataType: ',arr3.dtype)\n",
    "\n",
    "#Checking the Array total size(in bytes)\n",
    "print('Array size in bytes: ',arr3.nbytes)\n",
    "\n",
    "#Checking the No of elements in the Array\n",
    "print('Item no: ',arr3.itemsize)\n"
   ]
  },
  {
   "cell_type": "code",
   "execution_count": 78,
   "metadata": {},
   "outputs": [
    {
     "name": "stdout",
     "output_type": "stream",
     "text": [
      "[[[1 2 3 4 5 6]]]\n",
      "[[[[1 2 3 4 5 6]]]]\n",
      "[[[[[10 20 30 40 50 60]]]]]\n",
      "[[[[[[10 20 30 40 50 60]]]]]]\n"
     ]
    }
   ],
   "source": [
    "#Creating an array by specifiying the Dimension\n",
    "\n",
    "\n",
    "arr3=np.array([1,2,3,4,5,6],ndmin=3)\n",
    "print(arr3)\n",
    "\n",
    "arr4=np.array([1,2,3,4,5,6],ndmin=4)\n",
    "print(arr4)\n",
    "\n",
    "arr5=np.array([10,20,30,40,50,60],ndmin=5)\n",
    "print(arr5)\n",
    "\n",
    "arr6=np.array([10,20,30,40,50,60],ndmin=6)\n",
    "print(arr6)\n",
    "\n",
    "#here ndmin= dimension value"
   ]
  },
  {
   "cell_type": "code",
   "execution_count": 35,
   "metadata": {},
   "outputs": [
    {
     "name": "stdout",
     "output_type": "stream",
     "text": [
      "int16\n",
      "int32\n",
      "int64\n"
     ]
    }
   ],
   "source": [
    "#Creating an array specifiying the data type\n",
    "\n",
    "arr1=np.array([1,2,3,4,5],dtype='int16')\n",
    "print(arr1.dtype)\n",
    "\n",
    "arr2=np.array([1,2,3,4,5],dtype='int32')\n",
    "print(arr2.dtype)\n",
    "\n",
    "arr3=np.array([1,2,3,4,5],dtype='int64')\n",
    "print(arr3.dtype)\n"
   ]
  },
  {
   "cell_type": "code",
   "execution_count": 37,
   "metadata": {},
   "outputs": [
    {
     "name": "stdout",
     "output_type": "stream",
     "text": [
      "[1 2 3 4 5]\n",
      "7\n"
     ]
    }
   ],
   "source": [
    "#Lets access the 3rd,4th element of arr3 and add them\n",
    "print(arr3)\n",
    "print(arr3[2]+arr3[3])\n",
    "\n"
   ]
  },
  {
   "cell_type": "code",
   "execution_count": 42,
   "metadata": {},
   "outputs": [
    {
     "name": "stdout",
     "output_type": "stream",
     "text": [
      "[[ 1  2  3  4  5]\n",
      " [ 6  7  8  9 10]]\n",
      "2\n"
     ]
    }
   ],
   "source": [
    "#Here we are going to be accessing the second element of the 1st row of the 2d array below:\n",
    "\n",
    "arr4 = np.array([[1,2,3,4,5], [6,7,8,9,10]])\n",
    "print(arr4)\n",
    "print(arr4[0, 1])\n",
    "\n",
    "#row=0\n",
    "#col=1\n"
   ]
  },
  {
   "cell_type": "code",
   "execution_count": 48,
   "metadata": {},
   "outputs": [
    {
     "name": "stdout",
     "output_type": "stream",
     "text": [
      "9.9\n",
      "12.1\n",
      "6.6\n"
     ]
    }
   ],
   "source": [
    "arr5= np.array([[[1.1,2.2,3.3],[4.4,5.5,6.6]],[[7.7,8.8,9.9],[10.1,11.1,12.1]]])\n",
    "print(arr5[1,0,2])\n",
    "\n",
    "print(arr5[1,1,2])\n",
    "\n",
    "print(arr5[0,1,2])"
   ]
  },
  {
   "cell_type": "code",
   "execution_count": 55,
   "metadata": {},
   "outputs": [
    {
     "name": "stdout",
     "output_type": "stream",
     "text": [
      "Last el of 2nd dimension: 10\n",
      "2nd Last el of 2nd dimension: 9\n",
      "3rd Last el of 2nd dimension: 8\n",
      "Last el of 1st dimension: 5\n",
      "2nd Last el of 1st dimension: 4\n",
      "3rd Last el of 1st dimension: 3\n"
     ]
    }
   ],
   "source": [
    " arr = np.array([[1,2,3,4,5], [6,7,8,9,10]])\n",
    "\n",
    "print('Last el of 2nd dimension:',arr[1, -1])\n",
    "print('2nd Last el of 2nd dimension:',arr[1, -2])\n",
    "print('3rd Last el of 2nd dimension:',arr[1, -3])\n",
    "print('Last el of 1st dimension:',arr[0, -1])\n",
    "print('2nd Last el of 1st dimension:',arr[0, -2])\n",
    "print('3rd Last el of 1st dimension:',arr[0, -3])"
   ]
  },
  {
   "cell_type": "code",
   "execution_count": 98,
   "metadata": {},
   "outputs": [
    {
     "name": "stdout",
     "output_type": "stream",
     "text": [
      "[[ 1  2  3  4  5]\n",
      " [ 6  7  8  9 10]]\n",
      "[1 2 3 4 5]\n",
      "[2 7]\n",
      "[1 6]\n",
      "[5 6]\n",
      "[4 5 6 7]\n",
      "[1 2 3]\n",
      "[1 3 5 7]\n"
     ]
    }
   ],
   "source": [
    " arr = np.array([[1,2,3,4,5], [6,7,8,9,10]])\n",
    "#Getting specific row\n",
    "print(arr)\n",
    "\n",
    "#Getting all the elements of first row\n",
    "print(arr[0,:])\n",
    "\n",
    "#Getting all the elements of 2nd column\n",
    "print(arr[:,1])\n",
    "\n",
    "#Getting all the elements of 1st column\n",
    "print(arr[:,0])\n",
    "\n",
    "\n",
    "#Slice from the index 3 from the end to index 1 from the end\n",
    "arrx = np.array([1, 2, 3, 4, 5, 6, 7])\n",
    "print(arrx[-3:-1])\n",
    "\n",
    "#Slice from the index 3 to the end\n",
    "print(arrx[3:])\n",
    "\n",
    "#Slice from the start to index 3\n",
    "print(arrx[:3])\n",
    "\n",
    "#Return every other element from the entire array\n",
    "print(arrx[::2])"
   ]
  },
  {
   "cell_type": "code",
   "execution_count": 94,
   "metadata": {},
   "outputs": [
    {
     "name": "stdout",
     "output_type": "stream",
     "text": [
      "[[[ 1.1  2.2  3.3]\n",
      "  [ 4.4  5.5  6.6]]\n",
      "\n",
      " [[ 7.7  8.8  9.9]\n",
      "  [10.1 11.1 12.1]]]\n",
      "Returning the 2nd elements of both dimensions:\n",
      "[[ 4.4  5.5  6.6]\n",
      " [10.1 11.1 12.1]]\n"
     ]
    }
   ],
   "source": [
    "arr5= np.array([[[1.1,2.2,3.3],[4.4,5.5,6.6]],[[7.7,8.8,9.9],[10.1,11.1,12.1]]])\n",
    "print(arr5)\n",
    "\n",
    "print(\"Returning the 2nd elements of both dimensions:\")\n",
    "print(arr5[:,1,:])"
   ]
  },
  {
   "cell_type": "code",
   "execution_count": 87,
   "metadata": {},
   "outputs": [
    {
     "data": {
      "text/plain": [
       "array([[ 4.4,  5.5,  6.6],\n",
       "       [10.1, 11.1, 12.1]])"
      ]
     },
     "execution_count": 87,
     "metadata": {},
     "output_type": "execute_result"
    }
   ],
   "source": []
  },
  {
   "cell_type": "code",
   "execution_count": 75,
   "metadata": {},
   "outputs": [
    {
     "name": "stdout",
     "output_type": "stream",
     "text": [
      "[ 2  4  6  8 10 12 14]\n",
      "[ 2  5  8 11 14]\n"
     ]
    }
   ],
   "source": [
    "#Using step value to return every other element\n",
    "arr=np.array([1,2,3,4,5,6,7,8,9,10,11,12,13,14,15])\n",
    "print(arr[1:14:2])\n",
    "\n",
    "# Here the last element: step size\n",
    "\n",
    "arr=np.array([1,2,3,4,5,6,7,8,9,10,11,12,13,14,15])\n",
    "print(arr[1:14:3])\n"
   ]
  },
  {
   "cell_type": "code",
   "execution_count": 113,
   "metadata": {},
   "outputs": [
    {
     "name": "stdout",
     "output_type": "stream",
     "text": [
      "[[1 2 3 4 5]\n",
      " [5 6 7 8 9]]\n",
      "7\n",
      "[3]\n",
      "[3 7]\n",
      "[[2 3 4]\n",
      " [6 7 8]]\n"
     ]
    }
   ],
   "source": [
    "#Slicing 2d arrays(Tricky concept)\n",
    "\n",
    "arr=np.array([[1,2,3,4,5],[5,6,7,8,9]])\n",
    "print(arr)\n",
    "\n",
    "#Returning the index 2 from the 2nd element\n",
    "print(arr[1,2])\n",
    "\n",
    "#Returning the index 2 from the 1st element\n",
    "print(arr[0:1,2])\n",
    "\n",
    "#Returning the index 2 from the both elements\n",
    "print(arr[0:2,2])\n",
    "\n",
    "#Returning index 1 to 4 from both elements.Notice that the 4th one isn't included\n",
    "print(arr[0:2,1:4])\n"
   ]
  },
  {
   "cell_type": "code",
   "execution_count": 114,
   "metadata": {},
   "outputs": [
    {
     "name": "stdout",
     "output_type": "stream",
     "text": [
      "[   1    2    3 1000    5]\n"
     ]
    }
   ],
   "source": [
    "#Replacing array elements with new values\n",
    "\n",
    "arr=np.array([1,2,3,4,5])\n",
    "\n",
    "arr[3]=1000\n",
    "print(arr)\n"
   ]
  },
  {
   "cell_type": "code",
   "execution_count": 122,
   "metadata": {},
   "outputs": [
    {
     "name": "stdout",
     "output_type": "stream",
     "text": [
      "[[[ 8  9  0]\n",
      "  [10 20 30]]\n",
      "\n",
      " [[ 8  9  0]\n",
      "  [10 20 30]]]\n"
     ]
    }
   ],
   "source": [
    "#changing the 1st elements of both dimensions to [8,9,0]\n",
    "arr=np.array([[[1,2,3],[4,5,6]],[[1,2,3],[4,5,6]]])\n",
    "arr[:,0,:]=[8,9,0]\n",
    "\n",
    "#changing the 2nd elements of both dimensions to [10,20,30]\n",
    "arr[:,1,:]=[10,20,30]\n",
    "print(arr)\n"
   ]
  },
  {
   "cell_type": "code",
   "execution_count": 141,
   "metadata": {},
   "outputs": [
    {
     "name": "stdout",
     "output_type": "stream",
     "text": [
      "[[0. 0. 0. 0.]\n",
      " [0. 0. 0. 0.]\n",
      " [0. 0. 0. 0.]]\n",
      "[[1. 1.]]\n",
      "[[1. 0.]\n",
      " [0. 1.]]\n",
      "[[93.93 93.93]\n",
      " [93.93 93.93]]\n",
      "[[98. 98.]\n",
      " [98. 98.]]\n"
     ]
    }
   ],
   "source": [
    "#Working with different kinds of arrays\n",
    "\n",
    "#Creating an array of dimensions 3x4 with all values set to zero\n",
    "arr0=np.zeros((3,4))\n",
    "print(arr0)\n",
    "\n",
    "#Creating an array of dimensions 1x2 with all values set to one\n",
    "arr1=np.ones((1,2))\n",
    "print(arr1)\n",
    "\n",
    "#Creating an identity 2d matrix\n",
    "arr=np.identity(2)\n",
    "print(arr)\n",
    "\n",
    "#Creating a 2d matrix with all values set to 93.93\n",
    "arr=np.full((2,2),93.93)\n",
    "print(arr)\n",
    "\n",
    "#Creating a 2d matrix that resembles an existing one\n",
    "#Here arr dimension will resemble arr but the values will be set to 98\n",
    "arr1=np.full_like(arr,98)\n",
    "print(arr1)"
   ]
  },
  {
   "cell_type": "code",
   "execution_count": 160,
   "metadata": {},
   "outputs": [
    {
     "name": "stdout",
     "output_type": "stream",
     "text": [
      "['Cats' 'Dogs' 'Bunnies']\n",
      "<U7\n",
      "[10 12 13]\n",
      "int32\n",
      "[ True  True  True]\n",
      "bool\n"
     ]
    },
    {
     "ename": "ValueError",
     "evalue": "invalid literal for int() with base 10: 'aaaa'",
     "output_type": "error",
     "traceback": [
      "\u001b[1;31m---------------------------------------------------------------------------\u001b[0m",
      "\u001b[1;31mValueError\u001b[0m                                Traceback (most recent call last)",
      "\u001b[1;32m<ipython-input-160-9ca6d29effe7>\u001b[0m in \u001b[0;36m<module>\u001b[1;34m\u001b[0m\n\u001b[0;32m     20\u001b[0m \u001b[1;33m\u001b[0m\u001b[0m\n\u001b[0;32m     21\u001b[0m \u001b[1;31m#But Some conversions will raise errors\u001b[0m\u001b[1;33m\u001b[0m\u001b[1;33m\u001b[0m\u001b[1;33m\u001b[0m\u001b[0m\n\u001b[1;32m---> 22\u001b[1;33m \u001b[0mnewarr3\u001b[0m\u001b[1;33m=\u001b[0m \u001b[0mnp\u001b[0m\u001b[1;33m.\u001b[0m\u001b[0marray\u001b[0m\u001b[1;33m(\u001b[0m\u001b[1;33m[\u001b[0m\u001b[1;34m'aaaa'\u001b[0m\u001b[1;33m,\u001b[0m \u001b[1;34m'bbbb'\u001b[0m\u001b[1;33m,\u001b[0m \u001b[1;34m'cccc'\u001b[0m\u001b[1;33m]\u001b[0m\u001b[1;33m,\u001b[0m \u001b[0mdtype\u001b[0m\u001b[1;33m=\u001b[0m\u001b[1;34m'i'\u001b[0m\u001b[1;33m)\u001b[0m\u001b[1;33m\u001b[0m\u001b[1;33m\u001b[0m\u001b[0m\n\u001b[0m\u001b[0;32m     23\u001b[0m \u001b[0mprint\u001b[0m\u001b[1;33m(\u001b[0m\u001b[0mnewarr3\u001b[0m\u001b[1;33m.\u001b[0m\u001b[0mdtype\u001b[0m\u001b[1;33m)\u001b[0m\u001b[1;33m\u001b[0m\u001b[1;33m\u001b[0m\u001b[0m\n",
      "\u001b[1;31mValueError\u001b[0m: invalid literal for int() with base 10: 'aaaa'"
     ]
    }
   ],
   "source": [
    "Str= np.array([\"Cats\",\"Dogs\",\"Bunnies\"])\n",
    "print(Str)\n",
    "print(Str.dtype)\n",
    "\n",
    "\n",
    "#Converting an element of one data type to another\n",
    "#Here we are converting a float type arr to an integer one\n",
    "arr = np.array([10.10, 12.21, 13.13])\n",
    "\n",
    "newarr = arr.astype('i')\n",
    "\n",
    "print(newarr)\n",
    "print(newarr.dtype)\n",
    "\n",
    "#Converting to bool type\n",
    "newarr2=arr.astype('bool')\n",
    "print(newarr2)\n",
    "print(newarr2.dtype)\n",
    "\n",
    "\n",
    "#But Some conversions will raise errors\n",
    "newarr3= np.array(['aaaa', 'bbbb', 'cccc'], dtype='i')\n",
    "print(newarr3.dtype)"
   ]
  },
  {
   "cell_type": "code",
   "execution_count": 152,
   "metadata": {},
   "outputs": [
    {
     "name": "stdout",
     "output_type": "stream",
     "text": [
      "-0.39446029075111916\n",
      "[[0.90925277 0.38957174 0.66978584 0.07903911]\n",
      " [0.55389408 0.8990473  0.83935235 0.80156479]]\n"
     ]
    }
   ],
   "source": [
    "#Working with random values\n",
    "\n",
    "#Getting a random float value\n",
    "random_float = np.random.randn()\n",
    "print(random_float)\n",
    "\n",
    "#Here we are creating a 2x4 matrix with random values\n",
    "arr=np.random.rand(2,4)\n",
    "print(arr)"
   ]
  },
  {
   "cell_type": "code",
   "execution_count": 147,
   "metadata": {},
   "outputs": [
    {
     "name": "stdout",
     "output_type": "stream",
     "text": [
      "[[ 1 -1  7  6]\n",
      " [-1  3 -1  7]\n",
      " [-1 -1  1  8]\n",
      " [ 0  8  1  2]]\n"
     ]
    }
   ],
   "source": [
    "#Creating a matrix with random integer values\n",
    "#First we are specifying the range ie our values will range from -1 to 10\n",
    "#Secondly we are specifying the size of the array\n",
    "arr=np.random.randint(-1,10,size=(4,4))\n",
    "print(arr)"
   ]
  },
  {
   "cell_type": "code",
   "execution_count": 150,
   "metadata": {},
   "outputs": [
    {
     "name": "stdout",
     "output_type": "stream",
     "text": [
      "[[5.37397201 6.41856947 5.49235422 3.61058394]\n",
      " [9.00237242 1.86604672 0.79720052 6.96586463]\n",
      " [1.48384032 6.48606696 7.09039555 5.67795358]\n",
      " [9.20801846 9.83116586 3.85970229 2.69796988]]\n"
     ]
    }
   ],
   "source": [
    "#Creating a matrix with random float values\n",
    "#First we are specifying the range ie our values will range from -1 to 10\n",
    "#Secondly we are specifying the size of the array\n",
    "arr=np.random.uniform(-1,10,size=(4,4))\n",
    "print(arr)"
   ]
  },
  {
   "cell_type": "code",
   "execution_count": 3,
   "metadata": {},
   "outputs": [
    {
     "name": "stdout",
     "output_type": "stream",
     "text": [
      "[[ 10  20  30  40]\n",
      " [ 50  60  70  80]\n",
      " [ 90 100 110 120]]\n"
     ]
    }
   ],
   "source": [
    "#Reshaping and Organizing arrays\n",
    "import numpy as np\n",
    "arr = np.array([10, 20, 30, 40, 50, 60, 70, 80, 90, 100, 110, 120])\n",
    "#Here we are reshaping the 1D array consisting of 12 elements to a 3x4 arr\n",
    "newarr = arr.reshape(3, 4)\n",
    "print(newarr)"
   ]
  },
  {
   "cell_type": "code",
   "execution_count": 4,
   "metadata": {},
   "outputs": [
    {
     "name": "stdout",
     "output_type": "stream",
     "text": [
      "[[ 10  20  30]\n",
      " [ 40  50  60]\n",
      " [ 70  80  90]\n",
      " [100 110 120]]\n"
     ]
    }
   ],
   "source": [
    "#Here we are reshaping the 1D array consisting of 12 elements to a 4x3 arr\n",
    "newarr2 = arr.reshape(4, 3)\n",
    "print(newarr2)"
   ]
  },
  {
   "cell_type": "code",
   "execution_count": 6,
   "metadata": {},
   "outputs": [
    {
     "name": "stdout",
     "output_type": "stream",
     "text": [
      "[[ 10  20]\n",
      " [ 30  40]\n",
      " [ 50  60]\n",
      " [ 70  80]\n",
      " [ 90 100]\n",
      " [110 120]]\n"
     ]
    },
    {
     "ename": "ValueError",
     "evalue": "cannot reshape array of size 12 into shape (6,3)",
     "output_type": "error",
     "traceback": [
      "\u001b[1;31m---------------------------------------------------------------------------\u001b[0m",
      "\u001b[1;31mValueError\u001b[0m                                Traceback (most recent call last)",
      "\u001b[1;32m<ipython-input-6-bdc9d37ae351>\u001b[0m in \u001b[0;36m<module>\u001b[1;34m\u001b[0m\n\u001b[0;32m      4\u001b[0m \u001b[1;33m\u001b[0m\u001b[0m\n\u001b[0;32m      5\u001b[0m \u001b[1;31m#But this will raise an error\u001b[0m\u001b[1;33m\u001b[0m\u001b[1;33m\u001b[0m\u001b[1;33m\u001b[0m\u001b[0m\n\u001b[1;32m----> 6\u001b[1;33m \u001b[0mnewarr3\u001b[0m\u001b[1;33m=\u001b[0m\u001b[0marr\u001b[0m\u001b[1;33m.\u001b[0m\u001b[0mreshape\u001b[0m\u001b[1;33m(\u001b[0m\u001b[1;36m6\u001b[0m\u001b[1;33m,\u001b[0m\u001b[1;36m3\u001b[0m\u001b[1;33m)\u001b[0m\u001b[1;33m\u001b[0m\u001b[1;33m\u001b[0m\u001b[0m\n\u001b[0m",
      "\u001b[1;31mValueError\u001b[0m: cannot reshape array of size 12 into shape (6,3)"
     ]
    }
   ],
   "source": [
    "#Here we are reshaping the 1D array consisting of 12 elements to a 6x2 arr\n",
    "newarr2 = arr.reshape(6, 2)\n",
    "print(newarr2)\n",
    "\n",
    "#But this will raise an error\n",
    "newarr3=arr.reshape(6,3)\n"
   ]
  },
  {
   "cell_type": "code",
   "execution_count": 12,
   "metadata": {},
   "outputs": [
    {
     "name": "stdout",
     "output_type": "stream",
     "text": [
      "[1.1 2.2 3.3 4.4 5.5 6.6]\n",
      "[1.1 2.2 3.3 4.4 5.5 6.6 1.1 2.2 3.3 4.4 5.5 6.6]\n"
     ]
    }
   ],
   "source": [
    "#Bonus Concept: Flattening array means converting a multidimensional array into a 1D array.\n",
    "arr = np.array([[1.1, 2.2, 3.3], [4.4, 5.5, 6.6]])\n",
    "arr2 = np.array([[[1.1, 2.2, 3.3],[4.4, 5.5, 6.6]],[[1.1, 2.2, 3.3],[4.4, 5.5, 6.6]]])\n",
    "newarr = arr.reshape(-1)\n",
    "print(newarr)\n",
    "\n",
    "newarr = arr2.reshape(-1)\n",
    "print(newarr)"
   ]
  },
  {
   "cell_type": "code",
   "execution_count": null,
   "metadata": {},
   "outputs": [],
   "source": []
  }
 ],
 "metadata": {
  "kernelspec": {
   "display_name": "Python 3",
   "language": "python",
   "name": "python3"
  },
  "language_info": {
   "codemirror_mode": {
    "name": "ipython",
    "version": 3
   },
   "file_extension": ".py",
   "mimetype": "text/x-python",
   "name": "python",
   "nbconvert_exporter": "python",
   "pygments_lexer": "ipython3",
   "version": "3.8.5"
  }
 },
 "nbformat": 4,
 "nbformat_minor": 4
}
